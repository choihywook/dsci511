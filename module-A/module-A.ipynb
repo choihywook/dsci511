{
 "cells": [
  {
   "cell_type": "markdown",
   "metadata": {},
   "source": [
    "## Module submission header\n",
    "### Submission preparation instructions \n",
    "_Completion of this header is mandatory, subject to a 2-point deduction to the assignment._ Only add plain text in the designated areas, i.e., replacing the relevant 'NA's. You must fill out all group member Names and Drexel email addresses in the below markdown list, under header __Module submission group__. It is required to fill out descriptive notes pertaining to any tutoring support received in the completion of this submission under the __Additional submission comments__ section at the bottom of the header. If no tutoring support was received, leave NA in place. You may as well list other optional comments pertaining to the submission at bottom. _Any distruption of this header's formatting will make your group liable to the 2-point deduction._\n",
    "\n",
    "### Module submission group\n",
    "- Group member 1\n",
    "    - Name: NA\n",
    "    - Email: NA\n",
    "- Group member 2\n",
    "    - Name: NA\n",
    "    - Email: NA\n",
    "- Group member 3\n",
    "    - Name: NA\n",
    "    - Email: NA\n",
    "- Group member 4\n",
    "    - Name: NA\n",
    "    - Email: NA\n",
    "\n",
    "### Additional submission comments\n",
    "- Tutoring support received: NA\n",
    "- Other (other): NA"
   ]
  },
  {
   "cell_type": "markdown",
   "metadata": {},
   "source": [
    "# Assignment Group 1\n",
    "\n",
    "## Module A _(25 points)_\n",
    "\n",
    "__A1.__ _(3 points)_ In this module, you will be working with the [Seinfeld Chronicles dataset](https://www.kaggle.com/thec03u5/seinfeld-chronicles). Create an account on [Kaggle](https://www.kaggle.com) and download the `scripts.csv` file from the dataset and move it into the `data` directory. Read the `data/scripts.csv` file as a text file line-by-line and examine the list you have loaded the data into. "
   ]
  },
  {
   "cell_type": "code",
   "execution_count": 1,
   "metadata": {},
   "outputs": [],
   "source": [
    "seinfeld = open(\"data/scripts.csv\", \"r\").readlines()"
   ]
  },
  {
   "cell_type": "markdown",
   "metadata": {},
   "source": [
    "__A2.__ _(2 points)_ Is it possible to work with this data, simply splitting by a delimiter? Explain any complexity in the data's structured format that necessitates an established format-specific file reader. "
   ]
  },
  {
   "cell_type": "markdown",
   "metadata": {},
   "source": [
    "Response."
   ]
  },
  {
   "cell_type": "markdown",
   "metadata": {},
   "source": [
    "__A3.__ _(5 points)_ Use the `csv` module to read the contents of the `data/scripts.csv` file into a list. Examine this list. How many unique speaking characters are present in the scripts in total? \n",
    "\n",
    "__Important__: please don't get stuck on cleaning text in this module! It's great to take note of issues in data and even address them, but the regular expressions (regex) required to get heavily into that work is ahead in __Chapter 4__ and so not required here. Please just count characters and words as best possible using the topics from Chapters 0&ndash;2 (naïvely, even), and utilize the markdown response boxes to discuss what you see as being the challenges in working with these data and what solutions might be."
   ]
  },
  {
   "cell_type": "code",
   "execution_count": 5,
   "metadata": {},
   "outputs": [],
   "source": [
    "import csv\n",
    "\n",
    "reader = csv.reader(open(\"data/scripts.csv\", \"r\"))\n",
    "seinfeld = list(reader)"
   ]
  },
  {
   "cell_type": "code",
   "execution_count": 7,
   "metadata": {},
   "outputs": [
    {
     "data": {
      "text/plain": [
       "1639"
      ]
     },
     "execution_count": 7,
     "metadata": {},
     "output_type": "execute_result"
    }
   ],
   "source": [
    "speakingChart = []\n",
    "\n",
    "for lines in seinfeld[1:]:\n",
    "    speakingChart.append(lines[1])\n",
    "    \n",
    "characters = set(speakingChart)\n",
    "\n",
    "len(characters)"
   ]
  },
  {
   "cell_type": "markdown",
   "metadata": {},
   "source": [
    "__A4.__ _(2 points)_ Count the dialogue entries for the four major characters, \"JERRY\", \"GEORGE\", \"ELAINE\", and \"KRAMER\", using a dictionary (you are not allowed to use the Counter data structure for any component of this module).  "
   ]
  },
  {
   "cell_type": "code",
   "execution_count": 16,
   "metadata": {},
   "outputs": [],
   "source": [
    "counts = {\n",
    "    \"JERRY\" : 0,\n",
    "    \"GEORGE\" : 0,\n",
    "    \"ELAINE\" : 0,\n",
    "    \"KRAMER\" : 0\n",
    "}\n",
    "\n",
    "for lines in seinfeld:\n",
    "    if lines[1] in counts:\n",
    "        counts[lines[1]] += 1"
   ]
  },
  {
   "cell_type": "code",
   "execution_count": 19,
   "metadata": {},
   "outputs": [
    {
     "name": "stdout",
     "output_type": "stream",
     "text": [
      "{'ELAINE': 7983, 'GEORGE': 9708, 'JERRY': 14786, 'KRAMER': 6664}\n"
     ]
    }
   ],
   "source": [
    "from pprint import pprint\n",
    "\n",
    "pprint(counts)"
   ]
  },
  {
   "cell_type": "markdown",
   "metadata": {},
   "source": [
    "__A5.__ _(3 points)_ Count the number of words spoken by each of the main characters using a dictionary. "
   ]
  },
  {
   "cell_type": "code",
   "execution_count": 22,
   "metadata": {},
   "outputs": [],
   "source": [
    "spokenWord = {\n",
    "    \"JERRY\" : 0,\n",
    "    \"GEORGE\" : 0,\n",
    "    \"ELAINE\" : 0,\n",
    "    \"KRAMER\" : 0\n",
    "}\n",
    "\n",
    "for lines in seinfeld:\n",
    "    if lines[1] in spokenWord:\n",
    "        num_words = len(lines[2].split())\n",
    "        spokenWord[lines[1]] += num_words"
   ]
  },
  {
   "cell_type": "code",
   "execution_count": 23,
   "metadata": {},
   "outputs": [
    {
     "name": "stdout",
     "output_type": "stream",
     "text": [
      "{'ELAINE': 74634, 'GEORGE': 107029, 'JERRY': 147389, 'KRAMER': 70299}\n"
     ]
    }
   ],
   "source": [
    "pprint(spokenWord)"
   ]
  },
  {
   "cell_type": "markdown",
   "metadata": {},
   "source": [
    "__A6.__ _(5 points)_ Count how many times each word is spoken by the main characters using a dictionary, then sort these word counts in descending order, i.e. from the most commonly spoken words to least. [__Hint__: You can use either a lambda function or a list comprehension to do this.] "
   ]
  },
  {
   "cell_type": "code",
   "execution_count": 25,
   "metadata": {},
   "outputs": [],
   "source": [
    "wordCounts = {\n",
    "    \"JERRY\" : {},\n",
    "    \"GEORGE\" : {},\n",
    "    \"ELAINE\" : {},\n",
    "    \"KRAMER\" : {}\n",
    "}\n",
    "\n",
    "for lines in seinfeld:\n",
    "    if lines[1] in wordCounts:\n",
    "        words = [word.lower() for word in lines[2].split()]\n",
    "        for word in words:\n",
    "            if word in wordCounts[lines[1]]:\n",
    "                wordCounts[lines[1]][word] += 1\n",
    "            else:\n",
    "                wordCounts[lines[1]][word] = 1"
   ]
  },
  {
   "cell_type": "code",
   "execution_count": 28,
   "metadata": {},
   "outputs": [],
   "source": [
    "sortedWordCounts = {\n",
    "    \"JERRY\" : {},\n",
    "    \"GEORGE\" : {},\n",
    "    \"ELAINE\" : {},\n",
    "    \"KRAMER\" : {}\n",
    "}\n",
    "\n",
    "for character in sortedWordCounts:\n",
    "    sortedWordCounts[character] = sorted(wordCounts[character].items(), key = lambda x: x[1], reverse = True)"
   ]
  },
  {
   "cell_type": "markdown",
   "metadata": {},
   "source": [
    "__A7.__ _(5 points)_ Load the `data/stop-words.txt` file into a list. Find the 10 most common words for each of the main characters that are not in this list of stop words. Put these most common words in a dictionary data strucutre."
   ]
  },
  {
   "cell_type": "code",
   "execution_count": 31,
   "metadata": {},
   "outputs": [],
   "source": [
    "stopWords = [word.strip() for word in open(\"data/stop-words.txt\", \"r\").readlines()]"
   ]
  },
  {
   "cell_type": "code",
   "execution_count": 32,
   "metadata": {},
   "outputs": [],
   "source": [
    "commonWords = {\n",
    "    \"JERRY\" : [],\n",
    "    \"GEORGE\" : [],\n",
    "    \"ELAINE\" : [],\n",
    "    \"KRAMER\" : []\n",
    "}\n",
    "\n",
    "for character in commonWords:\n",
    "    count = 0\n",
    "    for word in sortedWordCounts[character]:\n",
    "        if count == 10:\n",
    "            break\n",
    "        if not word[0] in stopWords:\n",
    "            commonWords[character].append(word)\n",
    "            count += 1"
   ]
  },
  {
   "cell_type": "code",
   "execution_count": 33,
   "metadata": {},
   "outputs": [
    {
     "name": "stdout",
     "output_type": "stream",
     "text": [
      "{'ELAINE': [('oh,', 506),\n",
      "            (\"i'm\", 495),\n",
      "            ('well,', 353),\n",
      "            ('know', 330),\n",
      "            ('get', 309),\n",
      "            ('yeah,', 307),\n",
      "            ('no,', 307),\n",
      "            ('like', 298),\n",
      "            ('got', 267),\n",
      "            ('what?', 258)],\n",
      " 'GEORGE': [(\"i'm\", 826),\n",
      "            ('like', 583),\n",
      "            ('get', 492),\n",
      "            ('know', 483),\n",
      "            ('think', 379),\n",
      "            ('got', 375),\n",
      "            ('well,', 370),\n",
      "            (\"that's\", 366),\n",
      "            ('oh,', 353),\n",
      "            ('it.', 328)],\n",
      " 'JERRY': [(\"i'm\", 888),\n",
      "           ('like', 783),\n",
      "           ('get', 736),\n",
      "           ('know', 697),\n",
      "           ('well,', 607),\n",
      "           ('oh,', 595),\n",
      "           (\"that's\", 544),\n",
      "           ('it.', 521),\n",
      "           ('got', 512),\n",
      "           ('yeah,', 510)],\n",
      " 'KRAMER': [('well,', 576),\n",
      "            (\"i'm\", 554),\n",
      "            ('yeah,', 515),\n",
      "            ('oh,', 403),\n",
      "            ('got', 395),\n",
      "            ('get', 330),\n",
      "            ('no,', 298),\n",
      "            ('yeah.', 298),\n",
      "            ('like', 294),\n",
      "            ('know', 291)]}\n"
     ]
    }
   ],
   "source": [
    "pprint(commonWords)"
   ]
  }
 ],
 "metadata": {
  "kernelspec": {
   "display_name": "Python 3",
   "language": "python",
   "name": "python3"
  },
  "language_info": {
   "codemirror_mode": {
    "name": "ipython",
    "version": 3
   },
   "file_extension": ".py",
   "mimetype": "text/x-python",
   "name": "python",
   "nbconvert_exporter": "python",
   "pygments_lexer": "ipython3",
   "version": "3.7.3"
  }
 },
 "nbformat": 4,
 "nbformat_minor": 2
}
